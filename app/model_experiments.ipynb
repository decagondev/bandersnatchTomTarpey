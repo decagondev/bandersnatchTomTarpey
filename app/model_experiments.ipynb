{
    "cells": [
        {
            "cell_type": "code",
            "execution_count": 19,
            "metadata": {},
            "outputs": [],
            "source": [
                "# Imports\n",
                "import pandas as pd\n",
                "import numpy as np\n",
                "from data import Database\n",
                "from sklearn.model_selection import train_test_split, GridSearchCV\n",
                "from sklearn.ensemble import RandomForestClassifier\n",
                "import torch\n",
                "import torch.nn as nn\n",
                "import torch.nn.functional as F\n",
                "from sklearn.preprocessing import OrdinalEncoder\n",
                "from torch.utils.data import random_split, TensorDataset\n",
                "from sklearn.ensemble import RandomForestClassifier\n",
                "from sklearn.pipeline import make_pipeline, Pipeline\n",
                "from sklearn.model_selection import GridSearchCV\n",
                "from sklearn.linear_model import LogisticRegressionCV\n",
                "import tensorflow as tf\n",
                "from tensorflow.keras import Sequential\n",
                "from tensorflow.keras.callbacks import EarlyStopping\n",
                "from tensorflow.keras.layers import Dense, ReLU, Dropout\n",
                "from tensorflow.keras.activations import sigmoid, softmax\n",
                "from sklearn.preprocessing import StandardScaler"
            ]
        },
        {
            "cell_type": "code",
            "execution_count": 20,
            "metadata": {},
            "outputs": [],
            "source": [
                "# Connect to Database\n",
                "db = Database()"
            ]
        },
        {
            "cell_type": "code",
            "execution_count": 21,
            "metadata": {},
            "outputs": [
                {
                    "data": {
                        "text/plain": [
                            "'Successfully inserted 1000 documents!'"
                        ]
                    },
                    "execution_count": 21,
                    "metadata": {},
                    "output_type": "execute_result"
                }
            ],
            "source": [
                "# Populate database\n",
                "db.reset()\n",
                "db.seed(1000)"
            ]
        },
        {
            "cell_type": "code",
            "execution_count": 22,
            "metadata": {},
            "outputs": [],
            "source": [
                "# Transform data\n",
                "df = db.dataframe()\n",
                "enc = OrdinalEncoder()\n",
                "df[\"Rarity\"] = enc.fit_transform(df[[\"Rarity\"]])"
            ]
        },
        {
            "attachments": {},
            "cell_type": "markdown",
            "metadata": {},
            "source": [
                "# Split Data"
            ]
        },
        {
            "cell_type": "code",
            "execution_count": 23,
            "metadata": {},
            "outputs": [],
            "source": [
                "# Create feature matrix and target vector\n",
                "X = df[[\"Level\", \"Health\", \"Energy\", \"Sanity\"]]\n",
                "y = df[\"Rarity\"]\n",
                "\n",
                "# Split data into train and test sets\n",
                "X_train, X_test, y_train, y_test = train_test_split(X, y, test_size=.2, random_state=42)"
            ]
        },
        {
            "attachments": {},
            "cell_type": "markdown",
            "metadata": {},
            "source": [
                "# Establish Baseline\n",
                "baseline score = 0.31"
            ]
        },
        {
            "cell_type": "code",
            "execution_count": 24,
            "metadata": {},
            "outputs": [
                {
                    "data": {
                        "text/plain": [
                            "0.30875"
                        ]
                    },
                    "execution_count": 24,
                    "metadata": {},
                    "output_type": "execute_result"
                }
            ],
            "source": [
                "y_train.value_counts(normalize=True)[0]"
            ]
        },
        {
            "attachments": {},
            "cell_type": "markdown",
            "metadata": {},
            "source": [
                "# Random Forest\n",
                "best score = 0.99"
            ]
        },
        {
            "cell_type": "code",
            "execution_count": 25,
            "metadata": {},
            "outputs": [
                {
                    "data": {
                        "text/plain": [
                            "0.99"
                        ]
                    },
                    "execution_count": 25,
                    "metadata": {},
                    "output_type": "execute_result"
                }
            ],
            "source": [
                "# Create pipeline\n",
                "rf_pipe = Pipeline([\n",
                "    (\"scale\",StandardScaler()),\n",
                "    (\"clf\", RandomForestClassifier())\n",
                "])\n",
                "\n",
                "# Param dict for grid search\n",
                "rf_param_dict = {\n",
                "    \"clf__n_estimators\" : [80, 100, 120],\n",
                "    \"clf__min_samples_split\" : [2, 4],\n",
                "    \"clf__criterion\" : [\"gini\", \"entropy\", \"log_loss\"],\n",
                "    \"clf__min_samples_leaf\" : [1, 2]\n",
                "}\n",
                "\n",
                "# Instantiate and fit GridSearch\n",
                "rf_grid = GridSearchCV(rf_pipe, rf_param_dict)\n",
                "rf_grid.fit(X_train, y_train)\n",
                "rf_grid.best_estimator_.score(X_test, y_test)"
            ]
        },
        {
            "cell_type": "code",
            "execution_count": 31,
            "metadata": {},
            "outputs": [
                {
                    "data": {
                        "text/plain": [
                            "{'clf__criterion': 'gini',\n",
                            " 'clf__min_samples_leaf': 1,\n",
                            " 'clf__min_samples_split': 2,\n",
                            " 'clf__n_estimators': 80}"
                        ]
                    },
                    "execution_count": 31,
                    "metadata": {},
                    "output_type": "execute_result"
                }
            ],
            "source": [
                "rf_grid.best_params_"
            ]
        },
        {
            "attachments": {},
            "cell_type": "markdown",
            "metadata": {},
            "source": [
                "# Multinomial Logistic Regression\n",
                "best score = .69"
            ]
        },
        {
            "cell_type": "code",
            "execution_count": 22,
            "metadata": {},
            "outputs": [],
            "source": [
                "# Create model\n",
                "lr_model = LogisticRegressionCV(multi_class=\"ovr\", cv=5, random_state=42)"
            ]
        },
        {
            "cell_type": "code",
            "execution_count": 23,
            "metadata": {},
            "outputs": [
                {
                    "data": {
                        "text/html": [
                            "<style>#sk-container-id-4 {color: black;background-color: white;}#sk-container-id-4 pre{padding: 0;}#sk-container-id-4 div.sk-toggleable {background-color: white;}#sk-container-id-4 label.sk-toggleable__label {cursor: pointer;display: block;width: 100%;margin-bottom: 0;padding: 0.3em;box-sizing: border-box;text-align: center;}#sk-container-id-4 label.sk-toggleable__label-arrow:before {content: \"▸\";float: left;margin-right: 0.25em;color: #696969;}#sk-container-id-4 label.sk-toggleable__label-arrow:hover:before {color: black;}#sk-container-id-4 div.sk-estimator:hover label.sk-toggleable__label-arrow:before {color: black;}#sk-container-id-4 div.sk-toggleable__content {max-height: 0;max-width: 0;overflow: hidden;text-align: left;background-color: #f0f8ff;}#sk-container-id-4 div.sk-toggleable__content pre {margin: 0.2em;color: black;border-radius: 0.25em;background-color: #f0f8ff;}#sk-container-id-4 input.sk-toggleable__control:checked~div.sk-toggleable__content {max-height: 200px;max-width: 100%;overflow: auto;}#sk-container-id-4 input.sk-toggleable__control:checked~label.sk-toggleable__label-arrow:before {content: \"▾\";}#sk-container-id-4 div.sk-estimator input.sk-toggleable__control:checked~label.sk-toggleable__label {background-color: #d4ebff;}#sk-container-id-4 div.sk-label input.sk-toggleable__control:checked~label.sk-toggleable__label {background-color: #d4ebff;}#sk-container-id-4 input.sk-hidden--visually {border: 0;clip: rect(1px 1px 1px 1px);clip: rect(1px, 1px, 1px, 1px);height: 1px;margin: -1px;overflow: hidden;padding: 0;position: absolute;width: 1px;}#sk-container-id-4 div.sk-estimator {font-family: monospace;background-color: #f0f8ff;border: 1px dotted black;border-radius: 0.25em;box-sizing: border-box;margin-bottom: 0.5em;}#sk-container-id-4 div.sk-estimator:hover {background-color: #d4ebff;}#sk-container-id-4 div.sk-parallel-item::after {content: \"\";width: 100%;border-bottom: 1px solid gray;flex-grow: 1;}#sk-container-id-4 div.sk-label:hover label.sk-toggleable__label {background-color: #d4ebff;}#sk-container-id-4 div.sk-serial::before {content: \"\";position: absolute;border-left: 1px solid gray;box-sizing: border-box;top: 0;bottom: 0;left: 50%;z-index: 0;}#sk-container-id-4 div.sk-serial {display: flex;flex-direction: column;align-items: center;background-color: white;padding-right: 0.2em;padding-left: 0.2em;position: relative;}#sk-container-id-4 div.sk-item {position: relative;z-index: 1;}#sk-container-id-4 div.sk-parallel {display: flex;align-items: stretch;justify-content: center;background-color: white;position: relative;}#sk-container-id-4 div.sk-item::before, #sk-container-id-4 div.sk-parallel-item::before {content: \"\";position: absolute;border-left: 1px solid gray;box-sizing: border-box;top: 0;bottom: 0;left: 50%;z-index: -1;}#sk-container-id-4 div.sk-parallel-item {display: flex;flex-direction: column;z-index: 1;position: relative;background-color: white;}#sk-container-id-4 div.sk-parallel-item:first-child::after {align-self: flex-end;width: 50%;}#sk-container-id-4 div.sk-parallel-item:last-child::after {align-self: flex-start;width: 50%;}#sk-container-id-4 div.sk-parallel-item:only-child::after {width: 0;}#sk-container-id-4 div.sk-dashed-wrapped {border: 1px dashed gray;margin: 0 0.4em 0.5em 0.4em;box-sizing: border-box;padding-bottom: 0.4em;background-color: white;}#sk-container-id-4 div.sk-label label {font-family: monospace;font-weight: bold;display: inline-block;line-height: 1.2em;}#sk-container-id-4 div.sk-label-container {text-align: center;}#sk-container-id-4 div.sk-container {/* jupyter's `normalize.less` sets `[hidden] { display: none; }` but bootstrap.min.css set `[hidden] { display: none !important; }` so we also need the `!important` here to be able to override the default hidden behavior on the sphinx rendered scikit-learn.org. See: https://github.com/scikit-learn/scikit-learn/issues/21755 */display: inline-block !important;position: relative;}#sk-container-id-4 div.sk-text-repr-fallback {display: none;}</style><div id=\"sk-container-id-4\" class=\"sk-top-container\"><div class=\"sk-text-repr-fallback\"><pre>GridSearchCV(estimator=LogisticRegressionCV(cv=5, multi_class=&#x27;ovr&#x27;,\n",
                            "                                            random_state=42),\n",
                            "             param_grid={&#x27;Cs&#x27;: [8, 10, 12], &#x27;cv&#x27;: [3, 5, 7]})</pre><b>In a Jupyter environment, please rerun this cell to show the HTML representation or trust the notebook. <br />On GitHub, the HTML representation is unable to render, please try loading this page with nbviewer.org.</b></div><div class=\"sk-container\" hidden><div class=\"sk-item sk-dashed-wrapped\"><div class=\"sk-label-container\"><div class=\"sk-label sk-toggleable\"><input class=\"sk-toggleable__control sk-hidden--visually\" id=\"sk-estimator-id-10\" type=\"checkbox\" ><label for=\"sk-estimator-id-10\" class=\"sk-toggleable__label sk-toggleable__label-arrow\">GridSearchCV</label><div class=\"sk-toggleable__content\"><pre>GridSearchCV(estimator=LogisticRegressionCV(cv=5, multi_class=&#x27;ovr&#x27;,\n",
                            "                                            random_state=42),\n",
                            "             param_grid={&#x27;Cs&#x27;: [8, 10, 12], &#x27;cv&#x27;: [3, 5, 7]})</pre></div></div></div><div class=\"sk-parallel\"><div class=\"sk-parallel-item\"><div class=\"sk-item\"><div class=\"sk-label-container\"><div class=\"sk-label sk-toggleable\"><input class=\"sk-toggleable__control sk-hidden--visually\" id=\"sk-estimator-id-11\" type=\"checkbox\" ><label for=\"sk-estimator-id-11\" class=\"sk-toggleable__label sk-toggleable__label-arrow\">estimator: LogisticRegressionCV</label><div class=\"sk-toggleable__content\"><pre>LogisticRegressionCV(cv=5, multi_class=&#x27;ovr&#x27;, random_state=42)</pre></div></div></div><div class=\"sk-serial\"><div class=\"sk-item\"><div class=\"sk-estimator sk-toggleable\"><input class=\"sk-toggleable__control sk-hidden--visually\" id=\"sk-estimator-id-12\" type=\"checkbox\" ><label for=\"sk-estimator-id-12\" class=\"sk-toggleable__label sk-toggleable__label-arrow\">LogisticRegressionCV</label><div class=\"sk-toggleable__content\"><pre>LogisticRegressionCV(cv=5, multi_class=&#x27;ovr&#x27;, random_state=42)</pre></div></div></div></div></div></div></div></div></div></div>"
                        ],
                        "text/plain": [
                            "GridSearchCV(estimator=LogisticRegressionCV(cv=5, multi_class='ovr',\n",
                            "                                            random_state=42),\n",
                            "             param_grid={'Cs': [8, 10, 12], 'cv': [3, 5, 7]})"
                        ]
                    },
                    "execution_count": 23,
                    "metadata": {},
                    "output_type": "execute_result"
                }
            ],
            "source": [
                "# Param dict for grid search\n",
                "grid_params = {\n",
                "    \"Cs\" : [8, 10, 12],\n",
                "    \"cv\" : [3, 5, 7]\n",
                "}\n",
                "\n",
                "# Instantiate and fit grid search\n",
                "lr_grid = GridSearchCV(lr_model, param_grid=grid_params)\n",
                "lr_grid.fit(X_train, y_train)"
            ]
        },
        {
            "cell_type": "code",
            "execution_count": 27,
            "metadata": {},
            "outputs": [
                {
                    "data": {
                        "text/plain": [
                            "0.69"
                        ]
                    },
                    "execution_count": 27,
                    "metadata": {},
                    "output_type": "execute_result"
                }
            ],
            "source": [
                "lr_grid.score(X_test, y_test)"
            ]
        },
        {
            "attachments": {},
            "cell_type": "markdown",
            "metadata": {},
            "source": [
                "# Tensorflow\n",
                "best score = 1.0"
            ]
        },
        {
            "cell_type": "code",
            "execution_count": 28,
            "metadata": {},
            "outputs": [],
            "source": [
                "# Build network\n",
                "tf = Sequential()\n",
                "tf.add(Dense(10, input_dim=4, activation=\"relu\"))\n",
                "tf.add(Dense(20, activation=\"relu\")),\n",
                "tf.add(Dense(10, activation=\"relu\")),\n",
                "tf.add(Dense(6, activation=\"softmax\"))\n",
                "\n",
                "stop = EarlyStopping(monitor=\"loss\", patience=3)\n",
                "\n",
                "# Compile model\n",
                "tf.compile(loss=\"sparse_categorical_crossentropy\",\n",
                "           optimizer=\"nadam\",\n",
                "           metrics=[\"accuracy\"])"
            ]
        },
        {
            "cell_type": "code",
            "execution_count": 29,
            "metadata": {},
            "outputs": [
                {
                    "name": "stdout",
                    "output_type": "stream",
                    "text": [
                        "Epoch 1/200\n",
                        "40/40 [==============================] - 2s 3ms/step - loss: 3.8348 - accuracy: 0.1975\n",
                        "Epoch 2/200\n",
                        "40/40 [==============================] - 0s 3ms/step - loss: 1.6061 - accuracy: 0.4363\n",
                        "Epoch 3/200\n",
                        "40/40 [==============================] - 0s 3ms/step - loss: 1.2651 - accuracy: 0.5612\n",
                        "Epoch 4/200\n",
                        "40/40 [==============================] - 0s 2ms/step - loss: 1.0905 - accuracy: 0.6338\n",
                        "Epoch 5/200\n",
                        "40/40 [==============================] - 0s 3ms/step - loss: 0.9775 - accuracy: 0.6850\n",
                        "Epoch 6/200\n",
                        "40/40 [==============================] - 0s 3ms/step - loss: 0.8631 - accuracy: 0.7375\n",
                        "Epoch 7/200\n",
                        "40/40 [==============================] - 0s 2ms/step - loss: 0.7709 - accuracy: 0.7563\n",
                        "Epoch 8/200\n",
                        "40/40 [==============================] - 0s 2ms/step - loss: 0.7053 - accuracy: 0.7912\n",
                        "Epoch 9/200\n",
                        "40/40 [==============================] - 0s 3ms/step - loss: 0.6355 - accuracy: 0.7975\n",
                        "Epoch 10/200\n",
                        "40/40 [==============================] - 0s 2ms/step - loss: 0.5835 - accuracy: 0.8125\n",
                        "Epoch 11/200\n",
                        "40/40 [==============================] - 0s 2ms/step - loss: 0.5350 - accuracy: 0.8238\n",
                        "Epoch 12/200\n",
                        "40/40 [==============================] - 0s 2ms/step - loss: 0.4944 - accuracy: 0.8263\n",
                        "Epoch 13/200\n",
                        "40/40 [==============================] - 0s 2ms/step - loss: 0.4563 - accuracy: 0.8525\n",
                        "Epoch 14/200\n",
                        "40/40 [==============================] - 0s 2ms/step - loss: 0.4351 - accuracy: 0.8487\n",
                        "Epoch 15/200\n",
                        "40/40 [==============================] - 0s 2ms/step - loss: 0.4011 - accuracy: 0.8750\n",
                        "Epoch 16/200\n",
                        "40/40 [==============================] - 0s 6ms/step - loss: 0.3802 - accuracy: 0.8687\n",
                        "Epoch 17/200\n",
                        "40/40 [==============================] - 0s 3ms/step - loss: 0.3671 - accuracy: 0.8687\n",
                        "Epoch 18/200\n",
                        "40/40 [==============================] - 0s 5ms/step - loss: 0.3459 - accuracy: 0.8788\n",
                        "Epoch 19/200\n",
                        "40/40 [==============================] - 0s 2ms/step - loss: 0.3239 - accuracy: 0.8963\n",
                        "Epoch 20/200\n",
                        "40/40 [==============================] - 0s 2ms/step - loss: 0.3249 - accuracy: 0.8913\n",
                        "Epoch 21/200\n",
                        "40/40 [==============================] - 0s 2ms/step - loss: 0.2965 - accuracy: 0.9025\n",
                        "Epoch 22/200\n",
                        "40/40 [==============================] - 0s 2ms/step - loss: 0.2925 - accuracy: 0.8988\n",
                        "Epoch 23/200\n",
                        "40/40 [==============================] - 0s 2ms/step - loss: 0.2761 - accuracy: 0.9125\n",
                        "Epoch 24/200\n",
                        "40/40 [==============================] - 0s 3ms/step - loss: 0.2718 - accuracy: 0.9162\n",
                        "Epoch 25/200\n",
                        "40/40 [==============================] - 0s 2ms/step - loss: 0.2556 - accuracy: 0.9175\n",
                        "Epoch 26/200\n",
                        "40/40 [==============================] - 0s 2ms/step - loss: 0.2452 - accuracy: 0.9287\n",
                        "Epoch 27/200\n",
                        "40/40 [==============================] - 0s 2ms/step - loss: 0.2447 - accuracy: 0.9237\n",
                        "Epoch 28/200\n",
                        "40/40 [==============================] - 0s 2ms/step - loss: 0.2259 - accuracy: 0.9287\n",
                        "Epoch 29/200\n",
                        "40/40 [==============================] - 0s 2ms/step - loss: 0.2219 - accuracy: 0.9350\n",
                        "Epoch 30/200\n",
                        "40/40 [==============================] - 0s 2ms/step - loss: 0.2154 - accuracy: 0.9325\n",
                        "Epoch 31/200\n",
                        "40/40 [==============================] - 0s 2ms/step - loss: 0.2062 - accuracy: 0.9350\n",
                        "Epoch 32/200\n",
                        "40/40 [==============================] - 0s 2ms/step - loss: 0.1952 - accuracy: 0.9438\n",
                        "Epoch 33/200\n",
                        "40/40 [==============================] - 0s 2ms/step - loss: 0.1910 - accuracy: 0.9475\n",
                        "Epoch 34/200\n",
                        "40/40 [==============================] - 0s 2ms/step - loss: 0.1864 - accuracy: 0.9425\n",
                        "Epoch 35/200\n",
                        "40/40 [==============================] - 0s 3ms/step - loss: 0.1780 - accuracy: 0.9450\n",
                        "Epoch 36/200\n",
                        "40/40 [==============================] - 0s 2ms/step - loss: 0.1788 - accuracy: 0.9425\n",
                        "Epoch 37/200\n",
                        "40/40 [==============================] - 0s 2ms/step - loss: 0.1665 - accuracy: 0.9475\n",
                        "Epoch 38/200\n",
                        "40/40 [==============================] - 0s 2ms/step - loss: 0.1636 - accuracy: 0.9450\n",
                        "Epoch 39/200\n",
                        "40/40 [==============================] - 0s 2ms/step - loss: 0.1647 - accuracy: 0.9438\n",
                        "Epoch 40/200\n",
                        "40/40 [==============================] - 0s 2ms/step - loss: 0.1508 - accuracy: 0.9588\n",
                        "Epoch 41/200\n",
                        "40/40 [==============================] - 0s 6ms/step - loss: 0.1459 - accuracy: 0.9550\n",
                        "Epoch 42/200\n",
                        "40/40 [==============================] - 0s 2ms/step - loss: 0.1428 - accuracy: 0.9550\n",
                        "Epoch 43/200\n",
                        "40/40 [==============================] - 0s 2ms/step - loss: 0.1446 - accuracy: 0.9575\n",
                        "Epoch 44/200\n",
                        "40/40 [==============================] - 0s 2ms/step - loss: 0.1323 - accuracy: 0.9588\n",
                        "Epoch 45/200\n",
                        "40/40 [==============================] - 0s 2ms/step - loss: 0.1283 - accuracy: 0.9588\n",
                        "Epoch 46/200\n",
                        "40/40 [==============================] - 0s 2ms/step - loss: 0.1244 - accuracy: 0.9650\n",
                        "Epoch 47/200\n",
                        "40/40 [==============================] - 0s 2ms/step - loss: 0.1234 - accuracy: 0.9588\n",
                        "Epoch 48/200\n",
                        "40/40 [==============================] - 0s 3ms/step - loss: 0.1164 - accuracy: 0.9638\n",
                        "Epoch 49/200\n",
                        "40/40 [==============================] - 0s 2ms/step - loss: 0.1131 - accuracy: 0.9688\n",
                        "Epoch 50/200\n",
                        "40/40 [==============================] - 0s 2ms/step - loss: 0.1093 - accuracy: 0.9737\n",
                        "Epoch 51/200\n",
                        "40/40 [==============================] - 0s 3ms/step - loss: 0.1049 - accuracy: 0.9712\n",
                        "Epoch 52/200\n",
                        "40/40 [==============================] - 0s 2ms/step - loss: 0.1025 - accuracy: 0.9750\n",
                        "Epoch 53/200\n",
                        "40/40 [==============================] - 0s 2ms/step - loss: 0.1029 - accuracy: 0.9762\n",
                        "Epoch 54/200\n",
                        "40/40 [==============================] - 0s 2ms/step - loss: 0.0975 - accuracy: 0.9750\n",
                        "Epoch 55/200\n",
                        "40/40 [==============================] - 0s 4ms/step - loss: 0.0952 - accuracy: 0.9800\n",
                        "Epoch 56/200\n",
                        "40/40 [==============================] - 0s 4ms/step - loss: 0.0900 - accuracy: 0.9737\n",
                        "Epoch 57/200\n",
                        "40/40 [==============================] - 0s 2ms/step - loss: 0.0902 - accuracy: 0.9775\n",
                        "Epoch 58/200\n",
                        "40/40 [==============================] - 0s 2ms/step - loss: 0.0865 - accuracy: 0.9775\n",
                        "Epoch 59/200\n",
                        "40/40 [==============================] - 0s 3ms/step - loss: 0.0836 - accuracy: 0.9787\n",
                        "Epoch 60/200\n",
                        "40/40 [==============================] - 0s 3ms/step - loss: 0.0829 - accuracy: 0.9762\n",
                        "Epoch 61/200\n",
                        "40/40 [==============================] - 0s 2ms/step - loss: 0.0808 - accuracy: 0.9825\n",
                        "Epoch 62/200\n",
                        "40/40 [==============================] - 0s 3ms/step - loss: 0.0777 - accuracy: 0.9787\n",
                        "Epoch 63/200\n",
                        "40/40 [==============================] - 0s 3ms/step - loss: 0.0757 - accuracy: 0.9837\n",
                        "Epoch 64/200\n",
                        "40/40 [==============================] - 0s 5ms/step - loss: 0.0911 - accuracy: 0.9787\n",
                        "Epoch 65/200\n",
                        "40/40 [==============================] - 0s 2ms/step - loss: 0.0713 - accuracy: 0.9825\n",
                        "Epoch 66/200\n",
                        "40/40 [==============================] - 0s 2ms/step - loss: 0.0685 - accuracy: 0.9850\n",
                        "Epoch 67/200\n",
                        "40/40 [==============================] - 0s 2ms/step - loss: 0.0686 - accuracy: 0.9837\n",
                        "Epoch 68/200\n",
                        "40/40 [==============================] - 0s 2ms/step - loss: 0.0671 - accuracy: 0.9850\n",
                        "Epoch 69/200\n",
                        "40/40 [==============================] - 0s 2ms/step - loss: 0.0644 - accuracy: 0.9837\n",
                        "Epoch 70/200\n",
                        "40/40 [==============================] - 0s 2ms/step - loss: 0.0631 - accuracy: 0.9862\n",
                        "Epoch 71/200\n",
                        "40/40 [==============================] - 0s 2ms/step - loss: 0.0619 - accuracy: 0.9875\n",
                        "Epoch 72/200\n",
                        "40/40 [==============================] - 0s 4ms/step - loss: 0.0609 - accuracy: 0.9850\n",
                        "Epoch 73/200\n",
                        "40/40 [==============================] - 0s 2ms/step - loss: 0.0610 - accuracy: 0.9887\n",
                        "Epoch 74/200\n",
                        "40/40 [==============================] - 0s 3ms/step - loss: 0.0584 - accuracy: 0.9862\n",
                        "Epoch 75/200\n",
                        "40/40 [==============================] - 0s 2ms/step - loss: 0.0592 - accuracy: 0.9875\n",
                        "Epoch 76/200\n",
                        "40/40 [==============================] - 0s 2ms/step - loss: 0.0544 - accuracy: 0.9862\n",
                        "Epoch 77/200\n",
                        "40/40 [==============================] - 0s 3ms/step - loss: 0.0530 - accuracy: 0.9912\n",
                        "Epoch 78/200\n",
                        "40/40 [==============================] - 0s 3ms/step - loss: 0.0522 - accuracy: 0.9900\n",
                        "Epoch 79/200\n",
                        "40/40 [==============================] - 0s 2ms/step - loss: 0.0513 - accuracy: 0.9925\n",
                        "Epoch 80/200\n",
                        "40/40 [==============================] - 0s 3ms/step - loss: 0.0504 - accuracy: 0.9900\n",
                        "Epoch 81/200\n",
                        "40/40 [==============================] - 0s 2ms/step - loss: 0.0496 - accuracy: 0.9900\n",
                        "Epoch 82/200\n",
                        "40/40 [==============================] - 0s 7ms/step - loss: 0.0478 - accuracy: 0.9900\n",
                        "Epoch 83/200\n",
                        "40/40 [==============================] - 0s 2ms/step - loss: 0.0467 - accuracy: 0.9925\n",
                        "Epoch 84/200\n",
                        "40/40 [==============================] - 0s 3ms/step - loss: 0.0464 - accuracy: 0.9912\n",
                        "Epoch 85/200\n",
                        "40/40 [==============================] - 0s 2ms/step - loss: 0.0442 - accuracy: 0.9925\n",
                        "Epoch 86/200\n",
                        "40/40 [==============================] - 0s 2ms/step - loss: 0.0455 - accuracy: 0.9900\n",
                        "Epoch 87/200\n",
                        "40/40 [==============================] - 0s 2ms/step - loss: 0.0430 - accuracy: 0.9912\n",
                        "Epoch 88/200\n",
                        "40/40 [==============================] - 0s 3ms/step - loss: 0.0421 - accuracy: 0.9925\n",
                        "Epoch 89/200\n",
                        "40/40 [==============================] - 0s 3ms/step - loss: 0.0410 - accuracy: 0.9937\n",
                        "Epoch 90/200\n",
                        "40/40 [==============================] - 0s 2ms/step - loss: 0.0402 - accuracy: 0.9937\n",
                        "Epoch 91/200\n",
                        "40/40 [==============================] - 0s 2ms/step - loss: 0.0395 - accuracy: 0.9912\n",
                        "Epoch 92/200\n",
                        "40/40 [==============================] - 0s 5ms/step - loss: 0.0409 - accuracy: 0.9937\n",
                        "Epoch 93/200\n",
                        "40/40 [==============================] - 0s 3ms/step - loss: 0.0370 - accuracy: 0.9925\n",
                        "Epoch 94/200\n",
                        "40/40 [==============================] - 0s 2ms/step - loss: 0.0386 - accuracy: 0.9912\n",
                        "Epoch 95/200\n",
                        "40/40 [==============================] - 0s 3ms/step - loss: 0.0379 - accuracy: 0.9925\n",
                        "Epoch 96/200\n",
                        "40/40 [==============================] - 0s 2ms/step - loss: 0.0366 - accuracy: 0.9900\n",
                        "Epoch 97/200\n",
                        "40/40 [==============================] - 0s 6ms/step - loss: 0.0349 - accuracy: 0.9937\n",
                        "Epoch 98/200\n",
                        "40/40 [==============================] - 0s 3ms/step - loss: 0.0352 - accuracy: 0.9900\n",
                        "Epoch 99/200\n",
                        "40/40 [==============================] - 0s 2ms/step - loss: 0.0339 - accuracy: 0.9962\n",
                        "Epoch 100/200\n",
                        "40/40 [==============================] - 0s 3ms/step - loss: 0.0346 - accuracy: 0.9937\n",
                        "Epoch 101/200\n",
                        "40/40 [==============================] - 0s 2ms/step - loss: 0.0330 - accuracy: 0.9937\n",
                        "Epoch 102/200\n",
                        "40/40 [==============================] - 0s 2ms/step - loss: 0.0311 - accuracy: 0.9950\n",
                        "Epoch 103/200\n",
                        "40/40 [==============================] - 0s 2ms/step - loss: 0.0317 - accuracy: 0.9937\n",
                        "Epoch 104/200\n",
                        "40/40 [==============================] - 0s 2ms/step - loss: 0.0310 - accuracy: 0.9937\n",
                        "Epoch 105/200\n",
                        "40/40 [==============================] - 0s 2ms/step - loss: 0.0302 - accuracy: 0.9962\n",
                        "Epoch 106/200\n",
                        "40/40 [==============================] - 0s 2ms/step - loss: 0.0302 - accuracy: 0.9937\n",
                        "Epoch 107/200\n",
                        "40/40 [==============================] - 0s 2ms/step - loss: 0.0297 - accuracy: 0.9950\n",
                        "Epoch 108/200\n",
                        "40/40 [==============================] - 0s 2ms/step - loss: 0.0332 - accuracy: 0.9937\n",
                        "Epoch 109/200\n",
                        "40/40 [==============================] - 0s 2ms/step - loss: 0.0292 - accuracy: 0.9950\n",
                        "Epoch 110/200\n",
                        "40/40 [==============================] - 0s 2ms/step - loss: 0.0295 - accuracy: 0.9950\n",
                        "Epoch 111/200\n",
                        "40/40 [==============================] - 0s 3ms/step - loss: 0.0269 - accuracy: 0.9950\n",
                        "Epoch 112/200\n",
                        "40/40 [==============================] - 0s 6ms/step - loss: 0.0291 - accuracy: 0.9925\n",
                        "Epoch 113/200\n",
                        "40/40 [==============================] - 0s 2ms/step - loss: 0.0257 - accuracy: 0.9962\n",
                        "Epoch 114/200\n",
                        "40/40 [==============================] - 0s 2ms/step - loss: 0.0267 - accuracy: 0.9950\n",
                        "Epoch 115/200\n",
                        "40/40 [==============================] - 0s 2ms/step - loss: 0.0280 - accuracy: 0.9925\n",
                        "Epoch 116/200\n",
                        "40/40 [==============================] - 0s 2ms/step - loss: 0.0270 - accuracy: 0.9937\n"
                    ]
                },
                {
                    "data": {
                        "text/plain": [
                            "<keras.callbacks.History at 0x7fd6cddec640>"
                        ]
                    },
                    "execution_count": 29,
                    "metadata": {},
                    "output_type": "execute_result"
                }
            ],
            "source": [
                "# Fit model\n",
                "tf.fit(X_train, y_train, batch_size=20, epochs=200, callbacks=[stop])"
            ]
        },
        {
            "cell_type": "code",
            "execution_count": 30,
            "metadata": {},
            "outputs": [
                {
                    "name": "stdout",
                    "output_type": "stream",
                    "text": [
                        "7/7 [==============================] - 0s 2ms/step - loss: 0.0243 - accuracy: 1.0000\n"
                    ]
                },
                {
                    "data": {
                        "text/plain": [
                            "[0.02426598034799099, 1.0]"
                        ]
                    },
                    "execution_count": 30,
                    "metadata": {},
                    "output_type": "execute_result"
                }
            ],
            "source": [
                "tf.evaluate(X_test, y_test)"
            ]
        },
        {
            "attachments": {},
            "cell_type": "markdown",
            "metadata": {},
            "source": [
                "# Conclusion"
            ]
        },
        {
            "attachments": {},
            "cell_type": "markdown",
            "metadata": {},
            "source": [
                "In this notebook, I trained and evaluated three different classification models, a Random Forest Classifier, a Multinomial Logistic Regression, and a TensorFlow Neural Network. Of these, the Random Forest with an accuracy of .99 and the neural network with an accuracy of 1.0 are the best. I will deploy the Random Forest Classifier since it is the simpler model and still performs at about the same level as the Neural Network."
            ]
        }
    ],
    "metadata": {
        "kernelspec": {
            "display_name": "venv",
            "language": "python",
            "name": "python3"
        },
        "language_info": {
            "codemirror_mode": {
                "name": "ipython",
                "version": 3
            },
            "file_extension": ".py",
            "mimetype": "text/x-python",
            "name": "python",
            "nbconvert_exporter": "python",
            "pygments_lexer": "ipython3",
            "version": "3.9.13"
        },
        "orig_nbformat": 4
    },
    "nbformat": 4,
    "nbformat_minor": 2
}